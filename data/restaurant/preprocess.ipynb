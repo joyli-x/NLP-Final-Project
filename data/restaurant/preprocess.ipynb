{
 "cells": [
  {
   "cell_type": "code",
   "execution_count": 1,
   "metadata": {},
   "outputs": [],
   "source": [
    "import pandas as pd\n",
    "import numpy as np\n",
    "import pickle\n",
    "import matplotlib.pyplot as plt\n",
    "import seaborn as sns\n",
    "import re\n",
    "import copy\n",
    "from tqdm.notebook import tqdm\n",
    "import gc"
   ]
  },
  {
   "cell_type": "code",
   "execution_count": 2,
   "metadata": {},
   "outputs": [
    {
     "name": "stdout",
     "output_type": "stream",
     "text": [
      "(1525, 10)\n"
     ]
    },
    {
     "data": {
      "text/html": [
       "<div>\n",
       "<style scoped>\n",
       "    .dataframe tbody tr th:only-of-type {\n",
       "        vertical-align: middle;\n",
       "    }\n",
       "\n",
       "    .dataframe tbody tr th {\n",
       "        vertical-align: top;\n",
       "    }\n",
       "\n",
       "    .dataframe thead th {\n",
       "        text-align: right;\n",
       "    }\n",
       "</style>\n",
       "<table border=\"1\" class=\"dataframe\">\n",
       "  <thead>\n",
       "    <tr style=\"text-align: right;\">\n",
       "      <th></th>\n",
       "      <th>_unit_id</th>\n",
       "      <th>_golden</th>\n",
       "      <th>_unit_state</th>\n",
       "      <th>_trusted_judgments</th>\n",
       "      <th>_last_judgment_at</th>\n",
       "      <th>policies_violated</th>\n",
       "      <th>policies_violated:confidence</th>\n",
       "      <th>city</th>\n",
       "      <th>policies_violated_gold</th>\n",
       "      <th>review</th>\n",
       "    </tr>\n",
       "  </thead>\n",
       "  <tbody>\n",
       "    <tr>\n",
       "      <th>0</th>\n",
       "      <td>679455653</td>\n",
       "      <td>False</td>\n",
       "      <td>finalized</td>\n",
       "      <td>3</td>\n",
       "      <td>2/21/15 0:36</td>\n",
       "      <td>RudeService\\rOrderProblem\\rFilthy</td>\n",
       "      <td>1.0\\r0.6667\\r0.6667</td>\n",
       "      <td>Atlanta</td>\n",
       "      <td>NaN</td>\n",
       "      <td>I'm not a huge mcds lover, but I've been to be...</td>\n",
       "    </tr>\n",
       "    <tr>\n",
       "      <th>1</th>\n",
       "      <td>679455654</td>\n",
       "      <td>False</td>\n",
       "      <td>finalized</td>\n",
       "      <td>3</td>\n",
       "      <td>2/21/15 0:27</td>\n",
       "      <td>RudeService</td>\n",
       "      <td>1</td>\n",
       "      <td>Atlanta</td>\n",
       "      <td>NaN</td>\n",
       "      <td>Terrible customer service. Î¾I came in at 9:30...</td>\n",
       "    </tr>\n",
       "  </tbody>\n",
       "</table>\n",
       "</div>"
      ],
      "text/plain": [
       "    _unit_id  _golden _unit_state  _trusted_judgments _last_judgment_at  \\\n",
       "0  679455653    False   finalized                   3      2/21/15 0:36   \n",
       "1  679455654    False   finalized                   3      2/21/15 0:27   \n",
       "\n",
       "                   policies_violated policies_violated:confidence     city  \\\n",
       "0  RudeService\\rOrderProblem\\rFilthy          1.0\\r0.6667\\r0.6667  Atlanta   \n",
       "1                        RudeService                            1  Atlanta   \n",
       "\n",
       "   policies_violated_gold                                             review  \n",
       "0                     NaN  I'm not a huge mcds lover, but I've been to be...  \n",
       "1                     NaN  Terrible customer service. Î¾I came in at 9:30...  "
      ]
     },
     "execution_count": 2,
     "metadata": {},
     "output_type": "execute_result"
    }
   ],
   "source": [
    "\n",
    "data_path = './McDonalds-Yelp-Sentiment-DFE.csv'\n",
    "\n",
    "train_df = pd.read_csv(data_path, encoding='ISO-8859-1')\n",
    "print(train_df.shape)\n",
    "train_df.head(2)"
   ]
  },
  {
   "cell_type": "code",
   "execution_count": null,
   "metadata": {},
   "outputs": [],
   "source": [
    "import pandas as pd\n",
    "\n",
    "policy_set = {'ScaryMcDs', 'BadFood', 'Filthy', 'RudeService', 'MissingFood', 'Cost', 'OrderProblem', 'SlowService'}\n",
    "\n",
    "for policy in policy_set:\n",
    "    train_df[policy] = 0\n",
    "\n",
    "# 遍历每一行，根据policy更新a和b列的值\n",
    "for index, row in train_df.iterrows():\n",
    "    policy_items = str(row['policies_violated']).split('\\r')  # 将字符串转换为list，防止NaN值\n",
    "    for policy in policy_items:\n",
    "        if policy in policy_set:\n",
    "            train_df.at[index, policy] = 1\n",
    "        elif policy == 'na' or policy == 'nan':\n",
    "            continue\n",
    "        else:\n",
    "            print('Unseen policy', policy)\n",
    "\n",
    "column_list = list(policy_set)+['review']\n",
    "# 创建新的DataFrame，仅包含需要的列\n",
    "train_df = train_df[column_list]\n",
    "\n",
    "# 将新的DataFrame存储为CSV文件\n",
    "train_df.to_csv('./res_data.csv', index=False)"
   ]
  }
 ],
 "metadata": {
  "kernelspec": {
   "display_name": "nlp_hw3",
   "language": "python",
   "name": "python3"
  },
  "language_info": {
   "codemirror_mode": {
    "name": "ipython",
    "version": 3
   },
   "file_extension": ".py",
   "mimetype": "text/x-python",
   "name": "python",
   "nbconvert_exporter": "python",
   "pygments_lexer": "ipython3",
   "version": "3.9.18"
  }
 },
 "nbformat": 4,
 "nbformat_minor": 2
}
