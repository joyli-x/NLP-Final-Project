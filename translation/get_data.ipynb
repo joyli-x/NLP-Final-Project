{
 "cells": [
  {
   "cell_type": "code",
   "execution_count": 2,
   "metadata": {},
   "outputs": [
    {
     "name": "stderr",
     "output_type": "stream",
     "text": [
      "/DATA1/xuechang/miniconda3/envs/nlp_proj/lib/python3.9/site-packages/tqdm/auto.py:21: TqdmWarning: IProgress not found. Please update jupyter and ipywidgets. See https://ipywidgets.readthedocs.io/en/stable/user_install.html\n",
      "  from .autonotebook import tqdm as notebook_tqdm\n"
     ]
    }
   ],
   "source": [
    "import os\n",
    "import torch\n",
    "import random\n",
    "import evaluate\n",
    "import transformers\n",
    "import numpy as np\n",
    "import pandas as pd\n",
    "import matplotlib.pyplot as plt\n",
    "import torch.nn as nn\n",
    "import torch.nn.functional as F\n",
    "from typing import Optional\n",
    "from dataclasses import dataclass \n",
    "from time import perf_counter\n",
    "from torch.utils.data import Dataset, DataLoader\n",
    "from datasets import load_dataset, disable_progress_bar, load_from_disk\n",
    "from transformers import (\n",
    "    AutoConfig,\n",
    "    AutoTokenizer,\n",
    "    AutoModelForSeq2SeqLM,\n",
    "    DataCollatorForSeq2Seq,\n",
    "    Seq2SeqTrainingArguments,\n",
    "    Seq2SeqTrainer,\n",
    "    EarlyStoppingCallback\n",
    ")\n",
    "from translation_utils import create_translation_data"
   ]
  },
  {
   "cell_type": "code",
   "execution_count": 3,
   "metadata": {},
   "outputs": [
    {
     "data": {
      "text/plain": [
       "DatasetDict({\n",
       "    train: Dataset({\n",
       "        features: ['SNT.URLID', 'SNT.URLID.SNTID', 'url', 'translation'],\n",
       "        num_rows: 18088\n",
       "    })\n",
       "    validation: Dataset({\n",
       "        features: ['SNT.URLID', 'SNT.URLID.SNTID', 'url', 'translation'],\n",
       "        num_rows: 1000\n",
       "    })\n",
       "    test: Dataset({\n",
       "        features: ['SNT.URLID', 'SNT.URLID.SNTID', 'url', 'translation'],\n",
       "        num_rows: 1019\n",
       "    })\n",
       "})"
      ]
     },
     "execution_count": 3,
     "metadata": {},
     "output_type": "execute_result"
    }
   ],
   "source": [
    "dataset = load_dataset('./data/alt')\n",
    "dataset"
   ]
  },
  {
   "cell_type": "code",
   "execution_count": 4,
   "metadata": {},
   "outputs": [
    {
     "name": "stderr",
     "output_type": "stream",
     "text": [
      "Map: 100%|██████████| 18088/18088 [00:01<00:00, 11603.35 examples/s]\n",
      "Map: 100%|██████████| 1000/1000 [00:00<00:00, 11394.84 examples/s]\n",
      "Map: 100%|██████████| 1019/1019 [00:00<00:00, 11358.04 examples/s]\n"
     ]
    }
   ],
   "source": [
    "def transform_features(example):\n",
    "    # Engilsh to Chinese\n",
    "    new_example = {'en': example['translation']['en'], 'zh': example['translation']['zh']}\n",
    "    return new_example\n",
    "\n",
    "# Process dataset\n",
    "dataset = dataset.map(transform_features, remove_columns=['SNT.URLID', 'SNT.URLID.SNTID', 'translation', 'url'])"
   ]
  },
  {
   "cell_type": "code",
   "execution_count": 5,
   "metadata": {},
   "outputs": [
    {
     "data": {
      "text/html": [
       "<div>\n",
       "<style scoped>\n",
       "    .dataframe tbody tr th:only-of-type {\n",
       "        vertical-align: middle;\n",
       "    }\n",
       "\n",
       "    .dataframe tbody tr th {\n",
       "        vertical-align: top;\n",
       "    }\n",
       "\n",
       "    .dataframe thead th {\n",
       "        text-align: right;\n",
       "    }\n",
       "</style>\n",
       "<table border=\"1\" class=\"dataframe\">\n",
       "  <thead>\n",
       "    <tr style=\"text-align: right;\">\n",
       "      <th></th>\n",
       "      <th>en</th>\n",
       "      <th>zh</th>\n",
       "    </tr>\n",
       "  </thead>\n",
       "  <tbody>\n",
       "    <tr>\n",
       "      <th>0</th>\n",
       "      <td>Italy have defeated Portugal 31-5 in Pool C of...</td>\n",
       "      <td>意大利在法国巴黎王子公园体育场举办的2007年橄榄球世界杯C组以31-5击败葡萄牙。</td>\n",
       "    </tr>\n",
       "    <tr>\n",
       "      <th>1</th>\n",
       "      <td>Andrea Masi opened the scoring in the fourth m...</td>\n",
       "      <td>安德里亚·马西在第四分钟成功达阵，意大利率先得分。</td>\n",
       "    </tr>\n",
       "    <tr>\n",
       "      <th>2</th>\n",
       "      <td>Despite controlling the game for much of the f...</td>\n",
       "      <td>尽管上半场大部分时间意大利都控制着比赛，但在中场休息前，意大利未能再次达阵得分，不过大卫·博...</td>\n",
       "    </tr>\n",
       "    <tr>\n",
       "      <th>3</th>\n",
       "      <td>Portugal never gave up and David Penalva score...</td>\n",
       "      <td>葡萄牙从未放弃，大卫·佩纳尔瓦在第33分钟成功达阵，这是他们本场比赛唯一的得分。</td>\n",
       "    </tr>\n",
       "    <tr>\n",
       "      <th>4</th>\n",
       "      <td>Italy led 16-5 at half time but were matched b...</td>\n",
       "      <td>上半场意大利以16-5领先，但下半场大部分时间葡萄牙的表现不相上下。</td>\n",
       "    </tr>\n",
       "    <tr>\n",
       "      <th>...</th>\n",
       "      <td>...</td>\n",
       "      <td>...</td>\n",
       "    </tr>\n",
       "    <tr>\n",
       "      <th>18083</th>\n",
       "      <td>\"We have a very good recruiting policy and any...</td>\n",
       "      <td>周一，雅拉电车执行副总裁丹尼斯·克莱切告诉澳大利亚美联社：“我们有非常好的招聘政策，对于符合...</td>\n",
       "    </tr>\n",
       "    <tr>\n",
       "      <th>18084</th>\n",
       "      <td>Detective Senior Constable Barry Hills of Vict...</td>\n",
       "      <td>维多利亚警察局的侦探高级警员巴里·希尔斯谈到这个男孩时说：“他是个讨人喜欢的孩子，是个好孩子。”</td>\n",
       "    </tr>\n",
       "    <tr>\n",
       "      <th>18085</th>\n",
       "      <td>\"I think his obsession just got the better of ...</td>\n",
       "      <td>“我想他是因为抵受不住自己的痴迷。”</td>\n",
       "    </tr>\n",
       "    <tr>\n",
       "      <th>18086</th>\n",
       "      <td>Described as wearing a jacket similar to offic...</td>\n",
       "      <td>据描述，这名男孩穿着一件与雅拉电车制服相似的夹克。周日晚上，这名男孩在距电车被盗地点15公里...</td>\n",
       "    </tr>\n",
       "    <tr>\n",
       "      <th>18087</th>\n",
       "      <td>He is also accused of stealing a tram on Frida...</td>\n",
       "      <td>他还被指控在周五晚上从南墨尔本火车站偷了一辆有轨电车。</td>\n",
       "    </tr>\n",
       "  </tbody>\n",
       "</table>\n",
       "<p>18088 rows × 2 columns</p>\n",
       "</div>"
      ],
      "text/plain": [
       "                                                      en  \\\n",
       "0      Italy have defeated Portugal 31-5 in Pool C of...   \n",
       "1      Andrea Masi opened the scoring in the fourth m...   \n",
       "2      Despite controlling the game for much of the f...   \n",
       "3      Portugal never gave up and David Penalva score...   \n",
       "4      Italy led 16-5 at half time but were matched b...   \n",
       "...                                                  ...   \n",
       "18083  \"We have a very good recruiting policy and any...   \n",
       "18084  Detective Senior Constable Barry Hills of Vict...   \n",
       "18085  \"I think his obsession just got the better of ...   \n",
       "18086  Described as wearing a jacket similar to offic...   \n",
       "18087  He is also accused of stealing a tram on Frida...   \n",
       "\n",
       "                                                      zh  \n",
       "0             意大利在法国巴黎王子公园体育场举办的2007年橄榄球世界杯C组以31-5击败葡萄牙。  \n",
       "1                              安德里亚·马西在第四分钟成功达阵，意大利率先得分。  \n",
       "2      尽管上半场大部分时间意大利都控制着比赛，但在中场休息前，意大利未能再次达阵得分，不过大卫·博...  \n",
       "3               葡萄牙从未放弃，大卫·佩纳尔瓦在第33分钟成功达阵，这是他们本场比赛唯一的得分。  \n",
       "4                     上半场意大利以16-5领先，但下半场大部分时间葡萄牙的表现不相上下。  \n",
       "...                                                  ...  \n",
       "18083  周一，雅拉电车执行副总裁丹尼斯·克莱切告诉澳大利亚美联社：“我们有非常好的招聘政策，对于符合...  \n",
       "18084   维多利亚警察局的侦探高级警员巴里·希尔斯谈到这个男孩时说：“他是个讨人喜欢的孩子，是个好孩子。”  \n",
       "18085                                 “我想他是因为抵受不住自己的痴迷。”  \n",
       "18086  据描述，这名男孩穿着一件与雅拉电车制服相似的夹克。周日晚上，这名男孩在距电车被盗地点15公里...  \n",
       "18087                        他还被指控在周五晚上从南墨尔本火车站偷了一辆有轨电车。  \n",
       "\n",
       "[18088 rows x 2 columns]"
      ]
     },
     "execution_count": 5,
     "metadata": {},
     "output_type": "execute_result"
    }
   ],
   "source": [
    "df_train = pd.DataFrame(dataset['train'] )\n",
    "df_train = df_train.dropna()\n",
    "df_train.to_csv('./data/alt/train.csv', index=False)\n",
    "df_train"
   ]
  },
  {
   "cell_type": "code",
   "execution_count": 6,
   "metadata": {},
   "outputs": [],
   "source": [
    "df_val = pd.DataFrame(dataset['validation'] )\n",
    "df_val = df_val.dropna()\n",
    "df_val.to_csv('./data/alt/val.csv', index=False)"
   ]
  },
  {
   "cell_type": "code",
   "execution_count": 7,
   "metadata": {},
   "outputs": [],
   "source": [
    "df_test = pd.DataFrame(dataset['test'] )\n",
    "df_test = df_test.dropna()\n",
    "df_test.to_csv('./data/alt/test.csv', index=False)"
   ]
  },
  {
   "cell_type": "code",
   "execution_count": 8,
   "metadata": {},
   "outputs": [],
   "source": [
    "data_files = {'train': './data/alt/train.csv', 'validation': './data/alt/val.csv', 'test': './data/alt/test.csv'}\n"
   ]
  },
  {
   "cell_type": "code",
   "execution_count": 12,
   "metadata": {},
   "outputs": [
    {
     "name": "stderr",
     "output_type": "stream",
     "text": [
      "Downloading data files: 100%|██████████| 3/3 [00:00<00:00, 8707.90it/s]\n",
      "Extracting data files: 100%|██████████| 3/3 [00:00<00:00, 2315.16it/s]\n",
      "Generating train split: 18089 examples [00:00, 211546.01 examples/s]\n",
      "Generating validation split: 1001 examples [00:00, 119261.97 examples/s]\n",
      "Generating test split: 1019 examples [00:00, 125076.70 examples/s]\n"
     ]
    },
    {
     "data": {
      "text/plain": [
       "DatasetDict({\n",
       "    train: Dataset({\n",
       "        features: ['en', 'zh'],\n",
       "        num_rows: 18089\n",
       "    })\n",
       "    validation: Dataset({\n",
       "        features: ['en', 'zh'],\n",
       "        num_rows: 1001\n",
       "    })\n",
       "    test: Dataset({\n",
       "        features: ['en', 'zh'],\n",
       "        num_rows: 1019\n",
       "    })\n",
       "})"
      ]
     },
     "execution_count": 12,
     "metadata": {},
     "output_type": "execute_result"
    }
   ],
   "source": [
    "dataset_dict = load_dataset(\n",
    "    \"csv\",\n",
    "    delimiter=\",\",\n",
    "    column_names=['en', 'zh'],\n",
    "    data_files=data_files\n",
    ")\n",
    "dataset_dict"
   ]
  },
  {
   "cell_type": "code",
   "execution_count": 15,
   "metadata": {},
   "outputs": [
    {
     "data": {
      "text/plain": [
       "{'en': 'Italy have defeated Portugal 31-5 in Pool C of the 2007 Rugby World Cup at Parc des Princes, Paris, France.',\n",
       " 'zh': '意大利在法国巴黎王子公园体育场举办的2007年橄榄球世界杯C组以31-5击败葡萄牙。'}"
      ]
     },
     "execution_count": 15,
     "metadata": {},
     "output_type": "execute_result"
    }
   ],
   "source": [
    "dataset_dict['train'][1]"
   ]
  }
 ],
 "metadata": {
  "kernelspec": {
   "display_name": "nlp_proj",
   "language": "python",
   "name": "python3"
  },
  "language_info": {
   "codemirror_mode": {
    "name": "ipython",
    "version": 3
   },
   "file_extension": ".py",
   "mimetype": "text/x-python",
   "name": "python",
   "nbconvert_exporter": "python",
   "pygments_lexer": "ipython3",
   "version": "3.9.18"
  }
 },
 "nbformat": 4,
 "nbformat_minor": 2
}
